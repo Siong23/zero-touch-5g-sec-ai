{
 "cells": [
  {
   "cell_type": "markdown",
   "id": "93640ee1",
   "metadata": {},
   "source": [
    "# LSTM Model"
   ]
  },
  {
   "cell_type": "markdown",
   "id": "67753c0f",
   "metadata": {},
   "source": [
    "## 1. Data Preprocessing"
   ]
  },
  {
   "cell_type": "code",
   "execution_count": null,
   "id": "1aeaaf11",
   "metadata": {},
   "outputs": [
    {
     "ename": "ModuleNotFoundError",
     "evalue": "No module named 'seaborn'",
     "output_type": "error",
     "traceback": [
      "\u001b[0;31m---------------------------------------------------------------------------\u001b[0m",
      "\u001b[0;31mModuleNotFoundError\u001b[0m                       Traceback (most recent call last)",
      "Cell \u001b[0;32mIn[1], line 6\u001b[0m\n\u001b[1;32m      4\u001b[0m \u001b[38;5;28;01mfrom\u001b[39;00m\u001b[38;5;250m \u001b[39m\u001b[38;5;21;01msklearn\u001b[39;00m\u001b[38;5;21;01m.\u001b[39;00m\u001b[38;5;21;01mmodel_selection\u001b[39;00m\u001b[38;5;250m \u001b[39m\u001b[38;5;28;01mimport\u001b[39;00m train_test_split\n\u001b[1;32m      5\u001b[0m \u001b[38;5;28;01mimport\u001b[39;00m\u001b[38;5;250m \u001b[39m\u001b[38;5;21;01mmatplotlib\u001b[39;00m\u001b[38;5;21;01m.\u001b[39;00m\u001b[38;5;21;01mpyplot\u001b[39;00m\u001b[38;5;250m \u001b[39m\u001b[38;5;28;01mas\u001b[39;00m\u001b[38;5;250m \u001b[39m\u001b[38;5;21;01mplt\u001b[39;00m\n\u001b[0;32m----> 6\u001b[0m \u001b[38;5;28;01mimport\u001b[39;00m\u001b[38;5;250m \u001b[39m\u001b[38;5;21;01mseaborn\u001b[39;00m\u001b[38;5;250m \u001b[39m\u001b[38;5;28;01mas\u001b[39;00m\u001b[38;5;250m \u001b[39m\u001b[38;5;21;01msns\u001b[39;00m\n",
      "\u001b[0;31mModuleNotFoundError\u001b[0m: No module named 'seaborn'"
     ]
    }
   ],
   "source": [
    "import pandas as pd\n",
    "import numpy as np\n",
    "from sklearn.preprocessing import StandardScaler, OneHotEncoder, LabelEncoder\n",
    "from sklearn.model_selection import train_test_split\n",
    "import matplotlib.pyplot as plt\n",
    "import seaborn as sns"
   ]
  },
  {
   "cell_type": "code",
   "execution_count": 2,
   "id": "3003fabf",
   "metadata": {},
   "outputs": [],
   "source": [
    "# Load Dataset\n",
    "df = pd.read_csv('Dataset/5G_NIDD_Full.csv')"
   ]
  },
  {
   "cell_type": "code",
   "execution_count": 3,
   "id": "0ccaecc5",
   "metadata": {},
   "outputs": [
    {
     "data": {
      "text/plain": [
       "(6282130, 22)"
      ]
     },
     "execution_count": 3,
     "metadata": {},
     "output_type": "execute_result"
    }
   ],
   "source": [
    "df.shape"
   ]
  },
  {
   "cell_type": "code",
   "execution_count": 4,
   "id": "7170cb5d",
   "metadata": {},
   "outputs": [
    {
     "data": {
      "text/html": [
       "<div>\n",
       "<style scoped>\n",
       "    .dataframe tbody tr th:only-of-type {\n",
       "        vertical-align: middle;\n",
       "    }\n",
       "\n",
       "    .dataframe tbody tr th {\n",
       "        vertical-align: top;\n",
       "    }\n",
       "\n",
       "    .dataframe thead th {\n",
       "        text-align: right;\n",
       "    }\n",
       "</style>\n",
       "<table border=\"1\" class=\"dataframe\">\n",
       "  <thead>\n",
       "    <tr style=\"text-align: right;\">\n",
       "      <th></th>\n",
       "      <th>frame.time_relative</th>\n",
       "      <th>ip.src</th>\n",
       "      <th>ip.dst</th>\n",
       "      <th>ip.len</th>\n",
       "      <th>tcp.flags.syn</th>\n",
       "      <th>tcp.flags.ack</th>\n",
       "      <th>tcp.flags.push</th>\n",
       "      <th>tcp.flags.fin</th>\n",
       "      <th>tcp.flags.reset</th>\n",
       "      <th>tcp.flags.ece</th>\n",
       "      <th>...</th>\n",
       "      <th>eth.dst</th>\n",
       "      <th>ip.hdr_len</th>\n",
       "      <th>ip.ttl</th>\n",
       "      <th>tcp.window_size_value</th>\n",
       "      <th>tcp.hdr_len</th>\n",
       "      <th>udp.length</th>\n",
       "      <th>srcport</th>\n",
       "      <th>dstport</th>\n",
       "      <th>flow.id</th>\n",
       "      <th>label</th>\n",
       "    </tr>\n",
       "  </thead>\n",
       "  <tbody>\n",
       "    <tr>\n",
       "      <th>0</th>\n",
       "      <td>0.000000</td>\n",
       "      <td>10.50.150.200</td>\n",
       "      <td>10.155.15.1</td>\n",
       "      <td>84</td>\n",
       "      <td>NaN</td>\n",
       "      <td>NaN</td>\n",
       "      <td>NaN</td>\n",
       "      <td>NaN</td>\n",
       "      <td>NaN</td>\n",
       "      <td>NaN</td>\n",
       "      <td>...</td>\n",
       "      <td>a8:6b:ad:fd:04:b4</td>\n",
       "      <td>20</td>\n",
       "      <td>58</td>\n",
       "      <td>0</td>\n",
       "      <td>0</td>\n",
       "      <td>0</td>\n",
       "      <td>0</td>\n",
       "      <td>0</td>\n",
       "      <td>10.50.150.200 10.155.15.1 0 0 1</td>\n",
       "      <td>Benign</td>\n",
       "    </tr>\n",
       "    <tr>\n",
       "      <th>1</th>\n",
       "      <td>0.839253</td>\n",
       "      <td>10.50.150.200</td>\n",
       "      <td>10.155.15.6</td>\n",
       "      <td>84</td>\n",
       "      <td>NaN</td>\n",
       "      <td>NaN</td>\n",
       "      <td>NaN</td>\n",
       "      <td>NaN</td>\n",
       "      <td>NaN</td>\n",
       "      <td>NaN</td>\n",
       "      <td>...</td>\n",
       "      <td>a8:6b:ad:fd:04:b4</td>\n",
       "      <td>20</td>\n",
       "      <td>58</td>\n",
       "      <td>0</td>\n",
       "      <td>0</td>\n",
       "      <td>0</td>\n",
       "      <td>0</td>\n",
       "      <td>0</td>\n",
       "      <td>10.50.150.200 10.155.15.6 0 0 1</td>\n",
       "      <td>Benign</td>\n",
       "    </tr>\n",
       "    <tr>\n",
       "      <th>2</th>\n",
       "      <td>0.898380</td>\n",
       "      <td>10.155.15.6</td>\n",
       "      <td>10.50.150.200</td>\n",
       "      <td>84</td>\n",
       "      <td>NaN</td>\n",
       "      <td>NaN</td>\n",
       "      <td>NaN</td>\n",
       "      <td>NaN</td>\n",
       "      <td>NaN</td>\n",
       "      <td>NaN</td>\n",
       "      <td>...</td>\n",
       "      <td>cc:48:3a:f9:0f:21</td>\n",
       "      <td>20</td>\n",
       "      <td>64</td>\n",
       "      <td>0</td>\n",
       "      <td>0</td>\n",
       "      <td>0</td>\n",
       "      <td>0</td>\n",
       "      <td>0</td>\n",
       "      <td>10.155.15.6 10.50.150.200 0 0 1</td>\n",
       "      <td>Benign</td>\n",
       "    </tr>\n",
       "    <tr>\n",
       "      <th>3</th>\n",
       "      <td>0.964037</td>\n",
       "      <td>10.50.150.200</td>\n",
       "      <td>10.155.15.0</td>\n",
       "      <td>84</td>\n",
       "      <td>NaN</td>\n",
       "      <td>NaN</td>\n",
       "      <td>NaN</td>\n",
       "      <td>NaN</td>\n",
       "      <td>NaN</td>\n",
       "      <td>NaN</td>\n",
       "      <td>...</td>\n",
       "      <td>a8:6b:ad:fd:04:b4</td>\n",
       "      <td>20</td>\n",
       "      <td>58</td>\n",
       "      <td>0</td>\n",
       "      <td>0</td>\n",
       "      <td>0</td>\n",
       "      <td>0</td>\n",
       "      <td>0</td>\n",
       "      <td>10.50.150.200 10.155.15.0 0 0 1</td>\n",
       "      <td>Benign</td>\n",
       "    </tr>\n",
       "    <tr>\n",
       "      <th>4</th>\n",
       "      <td>1.341397</td>\n",
       "      <td>10.155.15.0</td>\n",
       "      <td>109.105.109.207</td>\n",
       "      <td>216</td>\n",
       "      <td>NaN</td>\n",
       "      <td>NaN</td>\n",
       "      <td>NaN</td>\n",
       "      <td>NaN</td>\n",
       "      <td>NaN</td>\n",
       "      <td>NaN</td>\n",
       "      <td>...</td>\n",
       "      <td>cc:48:3a:f9:0f:21</td>\n",
       "      <td>20</td>\n",
       "      <td>64</td>\n",
       "      <td>0</td>\n",
       "      <td>0</td>\n",
       "      <td>196</td>\n",
       "      <td>49920</td>\n",
       "      <td>443</td>\n",
       "      <td>10.155.15.0 109.105.109.207 49920 443 17</td>\n",
       "      <td>Benign</td>\n",
       "    </tr>\n",
       "  </tbody>\n",
       "</table>\n",
       "<p>5 rows × 22 columns</p>\n",
       "</div>"
      ],
      "text/plain": [
       "   frame.time_relative         ip.src           ip.dst  ip.len  tcp.flags.syn  \\\n",
       "0             0.000000  10.50.150.200      10.155.15.1      84            NaN   \n",
       "1             0.839253  10.50.150.200      10.155.15.6      84            NaN   \n",
       "2             0.898380    10.155.15.6    10.50.150.200      84            NaN   \n",
       "3             0.964037  10.50.150.200      10.155.15.0      84            NaN   \n",
       "4             1.341397    10.155.15.0  109.105.109.207     216            NaN   \n",
       "\n",
       "   tcp.flags.ack  tcp.flags.push  tcp.flags.fin  tcp.flags.reset  \\\n",
       "0            NaN             NaN            NaN              NaN   \n",
       "1            NaN             NaN            NaN              NaN   \n",
       "2            NaN             NaN            NaN              NaN   \n",
       "3            NaN             NaN            NaN              NaN   \n",
       "4            NaN             NaN            NaN              NaN   \n",
       "\n",
       "   tcp.flags.ece  ...            eth.dst ip.hdr_len ip.ttl  \\\n",
       "0            NaN  ...  a8:6b:ad:fd:04:b4         20     58   \n",
       "1            NaN  ...  a8:6b:ad:fd:04:b4         20     58   \n",
       "2            NaN  ...  cc:48:3a:f9:0f:21         20     64   \n",
       "3            NaN  ...  a8:6b:ad:fd:04:b4         20     58   \n",
       "4            NaN  ...  cc:48:3a:f9:0f:21         20     64   \n",
       "\n",
       "   tcp.window_size_value  tcp.hdr_len  udp.length  srcport  dstport  \\\n",
       "0                      0            0           0        0        0   \n",
       "1                      0            0           0        0        0   \n",
       "2                      0            0           0        0        0   \n",
       "3                      0            0           0        0        0   \n",
       "4                      0            0         196    49920      443   \n",
       "\n",
       "                                    flow.id   label  \n",
       "0           10.50.150.200 10.155.15.1 0 0 1  Benign  \n",
       "1           10.50.150.200 10.155.15.6 0 0 1  Benign  \n",
       "2           10.155.15.6 10.50.150.200 0 0 1  Benign  \n",
       "3           10.50.150.200 10.155.15.0 0 0 1  Benign  \n",
       "4  10.155.15.0 109.105.109.207 49920 443 17  Benign  \n",
       "\n",
       "[5 rows x 22 columns]"
      ]
     },
     "execution_count": 4,
     "metadata": {},
     "output_type": "execute_result"
    }
   ],
   "source": [
    "df.head()  # Display the first few rows of the DataFrame"
   ]
  },
  {
   "cell_type": "code",
   "execution_count": 5,
   "id": "a4c44f36",
   "metadata": {},
   "outputs": [],
   "source": [
    "# Drop Unnecessary Columns\n",
    "columns_to_drop = ['ip.src', 'ip.dst', 'eth.src', 'eth.dst', 'flow.id']\n",
    "df = df.drop(columns=columns_to_drop)"
   ]
  },
  {
   "cell_type": "code",
   "execution_count": 6,
   "id": "c329ffc0",
   "metadata": {},
   "outputs": [],
   "source": [
    "# Identify Columns\n",
    "categorical_cols = df.select_dtypes(include=['object', 'category']).columns.tolist()\n",
    "numerical_cols = df.select_dtypes(include=[np.number]).columns.tolist()"
   ]
  },
  {
   "cell_type": "code",
   "execution_count": 7,
   "id": "88869196",
   "metadata": {},
   "outputs": [],
   "source": [
    "# Remove label from categorical for later encoding\n",
    "target_col = 'label'\n",
    "cat_features = [col for col in categorical_cols if col != target_col]"
   ]
  },
  {
   "cell_type": "code",
   "execution_count": 8,
   "id": "434d1198",
   "metadata": {},
   "outputs": [],
   "source": [
    "# Handle Missing Values\n",
    "for col in cat_features:\n",
    "    df[col] = df[col].fillna(df[col].mode()[0])\n",
    "for col in numerical_cols:\n",
    "    df[col] = df[col].fillna(df[col].median())"
   ]
  },
  {
   "cell_type": "code",
   "execution_count": 9,
   "id": "622d273c",
   "metadata": {},
   "outputs": [],
   "source": [
    "# Drop Duplicates\n",
    "df.drop_duplicates(inplace=True)"
   ]
  },
  {
   "cell_type": "code",
   "execution_count": 10,
   "id": "24fce381",
   "metadata": {},
   "outputs": [],
   "source": [
    "# One-hot Encode Categorical Features (except target)\n",
    "if cat_features:  # Only run if there are any remaining categorical features\n",
    "    onehot_encoder = OneHotEncoder(sparse=False, handle_unknown='ignore')\n",
    "    encoded_cats = onehot_encoder.fit_transform(df[cat_features])\n",
    "    encoded_cat_cols = onehot_encoder.get_feature_names_out(cat_features)\n",
    "    encoded_cat_df = pd.DataFrame(encoded_cats, columns=encoded_cat_cols, index=df.index)\n",
    "    df = df.drop(columns=cat_features)\n",
    "    df = pd.concat([df, encoded_cat_df], axis=1)"
   ]
  },
  {
   "cell_type": "code",
   "execution_count": 11,
   "id": "f3d5f552",
   "metadata": {},
   "outputs": [],
   "source": [
    "# Standardize Numerical Features\n",
    "scaler = StandardScaler()\n",
    "df[numerical_cols] = scaler.fit_transform(df[numerical_cols])"
   ]
  },
  {
   "cell_type": "code",
   "execution_count": 12,
   "id": "c4dd8102",
   "metadata": {},
   "outputs": [
    {
     "name": "stdout",
     "output_type": "stream",
     "text": [
      "Label classes: ['Benign' 'HTTPFlood' 'ICMPFlood' 'SYNFlood' 'SYNScan' 'SlowrateDoS'\n",
      " 'TCPConnectScan' 'UDPFlood' 'UDPScan']\n"
     ]
    },
    {
     "data": {
      "text/plain": [
       "label\n",
       "0        2834524\n",
       "1         858100\n",
       "7         733760\n",
       "5         617151\n",
       "3          26458\n",
       "6          20373\n",
       "4          20152\n",
       "8          15949\n",
       "2           2309\n",
       "dtype: int64"
      ]
     },
     "execution_count": 12,
     "metadata": {},
     "output_type": "execute_result"
    }
   ],
   "source": [
    "# Encode Target (label) to integers\n",
    "from sklearn.preprocessing import LabelEncoder\n",
    "label_encoder = LabelEncoder()\n",
    "df[target_col] = label_encoder.fit_transform(df[target_col])\n",
    "print(\"Label classes:\", label_encoder.classes_)\n",
    "\n",
    "df.value_counts(['label'])"
   ]
  },
  {
   "cell_type": "code",
   "execution_count": 13,
   "id": "32bf0b7a",
   "metadata": {},
   "outputs": [
    {
     "name": "stdout",
     "output_type": "stream",
     "text": [
      "            Label    Count\n",
      "0          Benign  2834524\n",
      "1       HTTPFlood   858100\n",
      "2       ICMPFlood     2309\n",
      "3        SYNFlood    26458\n",
      "4         SYNScan    20152\n",
      "5     SlowrateDoS   617151\n",
      "6  TCPConnectScan    20373\n",
      "7        UDPFlood   733760\n",
      "8         UDPScan    15949\n"
     ]
    },
    {
     "data": {
      "image/png": "[encoded data removed]",
      "text/plain": [
       "<Figure size 800x400 with 1 Axes>"
      ]
     },
     "metadata": {},
     "output_type": "display_data"
    }
   ],
   "source": [
    "# Class Distribution Table\n",
    "label_counts = df[target_col].value_counts().sort_index()\n",
    "label_counts_table = pd.DataFrame({'Label': label_encoder.classes_, 'Count': label_counts.values})\n",
    "print(label_counts_table)\n",
    "\n",
    "plt.figure(figsize=(8,4))\n",
    "sns.barplot(x=label_counts_table['Label'], y=label_counts_table['Count'])\n",
    "plt.title('Class Distribution')\n",
    "plt.ylabel('Count')\n",
    "plt.xticks(rotation=45)\n",
    "plt.show()"
   ]
  },
  {
   "cell_type": "code",
   "execution_count": 14,
   "id": "4547d75c",
   "metadata": {},
   "outputs": [],
   "source": [
    "# Separate X and y\n",
    "X = df.drop(columns=[target_col])\n",
    "y = df[target_col]  # integer labels"
   ]
  },
  {
   "cell_type": "code",
   "execution_count": 15,
   "id": "2b7a86db",
   "metadata": {},
   "outputs": [],
   "source": [
    "# Train-Test Split\n",
    "X_train, X_test, y_train, y_test = train_test_split(\n",
    "    X, y, test_size=0.2, random_state=42, stratify=y\n",
    ")"
   ]
  },
  {
   "cell_type": "code",
   "execution_count": 16,
   "id": "8150ab39",
   "metadata": {},
   "outputs": [],
   "source": [
    "# One-hot encode y for model training (Keras expects one-hot for softmax)\n",
    "y_train_oh = pd.get_dummies(y_train)\n",
    "y_test_oh = pd.get_dummies(y_test)\n",
    "\n",
    "# Align columns\n",
    "y_test_oh = y_test_oh.reindex(columns=y_train_oh.columns, fill_value=0)"
   ]
  },
  {
   "cell_type": "code",
   "execution_count": 17,
   "id": "b72259c5",
   "metadata": {},
   "outputs": [],
   "source": [
    "# Reshape for 3D-LSTM (timesteps > 1 for sequence modeling)\n",
    "# Use a sliding window approach to create sequences\n",
    "def create_sequences(X, y, seq_len=5):\n",
    "    Xs, ys = [], []\n",
    "    for i in range(len(X) - seq_len + 1):\n",
    "        Xs.append(X.iloc[i:i+seq_len].values)\n",
    "        ys.append(y.iloc[i+seq_len-1])\n",
    "    return np.array(Xs), np.array(ys)\n",
    "\n",
    "SEQ_LEN = 5 # Length of the sequence for LSTM\n",
    "X_train_seq, y_train_seq = create_sequences(X_train, y_train, seq_len=SEQ_LEN)\n",
    "X_test_seq, y_test_seq = create_sequences(X_test, y_test, seq_len=SEQ_LEN)\n",
    "\n",
    "# One-hot encode y for model training\n",
    "y_train_seq_oh = pd.get_dummies(y_train_seq)\n",
    "y_test_seq_oh = pd.get_dummies(y_test_seq)\n",
    "y_test_seq_oh = y_test_seq_oh.reindex(columns=y_train_seq_oh.columns, fill_value=0)"
   ]
  },
  {
   "cell_type": "code",
   "execution_count": 18,
   "id": "91100673",
   "metadata": {},
   "outputs": [
    {
     "name": "stdout",
     "output_type": "stream",
     "text": [
      "Train shape: (4103016, 5, 16) (4103016, 9)\n",
      "Test shape: (1025752, 5, 16) (1025752, 9)\n"
     ]
    }
   ],
   "source": [
    "print(\"Train shape:\", X_train_seq.shape, y_train_seq_oh.shape)\n",
    "print(\"Test shape:\", X_test_seq.shape, y_test_seq_oh.shape)"
   ]
  },
  {
   "cell_type": "markdown",
   "id": "0673d0ab",
   "metadata": {},
   "source": [
    "# Vanila LSTM"
   ]
  },
  {
   "cell_type": "code",
   "execution_count": null,
   "id": "11817a87",
   "metadata": {},
   "outputs": [],
   "source": [
    "from tensorflow.keras.layers import Input, LSTM, Dense, Dropout\n",
    "from tensorflow.keras.models import Model\n",
    "\n",
    "# Define Vanilla LSTM Model\n",
    "inputs = Input(shape=(X_train_seq.shape[1], X_train_seq.shape[2]))\n",
    "x = LSTM(64, return_sequences=False)(inputs)\n",
    "x = Dropout(0.3)(x)\n",
    "outputs = Dense(y_train_seq_oh.shape[1], activation='softmax')(x)\n",
    "vanilla_lstm_model = Model(inputs, outputs, name=\"Vanilla_LSTM\")\n",
    "\n",
    "vanilla_lstm_model.compile(optimizer='adam', loss='categorical_crossentropy', metrics=['accuracy'])\n",
    "vanilla_lstm_model.summary()"
   ]
  },
  {
   "cell_type": "code",
   "execution_count": null,
   "id": "035c57a9",
   "metadata": {},
   "outputs": [],
   "source": [
    "history_vanilla = vanilla_lstm_model.fit(\n",
    "    X_train_seq, y_train_seq_oh,\n",
    "    epochs=10,\n",
    "    batch_size=32,\n",
    "    validation_data=(X_test_seq, y_test_seq_oh)\n",
    ")"
   ]
  },
  {
   "cell_type": "markdown",
   "id": "07f639d2",
   "metadata": {},
   "source": [
    "# BiLSTM"
   ]
  },
  {
   "cell_type": "code",
   "execution_count": null,
   "id": "8a1c19a3",
   "metadata": {},
   "outputs": [],
   "source": [
    "from tensorflow.keras.layers import Input, Bidirectional, LSTM, Dense, Dropout\n",
    "from tensorflow.keras.models import Model\n",
    "\n",
    "# Define Single-Layer BiLSTM Model\n",
    "inputs = Input(shape=(X_train_seq.shape[1], X_train_seq.shape[2]))\n",
    "x = Bidirectional(LSTM(64, return_sequences=False))(inputs)\n",
    "x = Dropout(0.3)(x)\n",
    "outputs = Dense(y_train_seq_oh.shape[1], activation='softmax')(x)\n",
    "bilstm_model = Model(inputs, outputs, name=\"Single_Layer_BiLSTM\")\n",
    "\n",
    "bilstm_model.compile(optimizer='adam', loss='categorical_crossentropy', metrics=['accuracy'])\n",
    "bilstm_model.summary()"
   ]
  },
  {
   "cell_type": "code",
   "execution_count": null,
   "id": "f2a8398c",
   "metadata": {},
   "outputs": [],
   "source": [
    "history_bilstm = bilstm_model.fit(\n",
    "    X_train_seq, y_train_seq_oh,\n",
    "    epochs=10,\n",
    "    batch_size=32,\n",
    "    validation_data=(X_test_seq, y_test_seq_oh)\n",
    ")"
   ]
  },
  {
   "cell_type": "markdown",
   "id": "c51403d6",
   "metadata": {},
   "source": [
    "# LSTM + Attention"
   ]
  },
  {
   "cell_type": "code",
   "execution_count": null,
   "id": "b4474d62",
   "metadata": {},
   "outputs": [],
   "source": [
    "from tensorflow.keras.layers import AdditiveAttention, Input, LSTM, Dense, Dropout\n",
    "from tensorflow.keras.models import Model\n",
    "\n",
    "# Define Vanilla LSTM + Attention Model\n",
    "inputs = Input(shape=(X_train_seq.shape[1], X_train_seq.shape[2]))\n",
    "x = LSTM(64, return_sequences=True)(inputs)\n",
    "attention = AdditiveAttention()([x, x])  # Apply attention\n",
    "x = tf.keras.layers.Flatten()(attention)  # Flatten the attention output\n",
    "x = Dropout(0.3)(x)\n",
    "outputs = Dense(y_train_seq_oh.shape[1], activation='softmax')(x)\n",
    "vanilla_lstm_attention_model = Model(inputs, outputs, name=\"Vanilla_LSTM_Attention\")\n",
    "\n",
    "vanilla_lstm_attention_model.compile(optimizer='adam', loss='categorical_crossentropy', metrics=['accuracy'])\n",
    "vanilla_lstm_attention_model.summary()"
   ]
  },
  {
   "cell_type": "code",
   "execution_count": null,
   "id": "3355dee6",
   "metadata": {},
   "outputs": [],
   "source": [
    "history_vanilla_attention = vanilla_lstm_attention_model.fit(\n",
    "    X_train_seq, y_train_seq_oh,\n",
    "    epochs=10,\n",
    "    batch_size=32,\n",
    "    validation_data=(X_test_seq, y_test_seq_oh)\n",
    ")"
   ]
  },
  {
   "cell_type": "markdown",
   "id": "854c79e9",
   "metadata": {},
   "source": [
    "## BiLSTM + Attention Model"
   ]
  },
  {
   "cell_type": "code",
   "execution_count": 23,
   "id": "19fe8829",
   "metadata": {},
   "outputs": [],
   "source": [
    "import tensorflow as tf\n",
    "from tensorflow.keras.layers import Layer, Input, Bidirectional, LSTM, Dense, Dropout\n",
    "from tensorflow.keras.models import Model"
   ]
  },
  {
   "cell_type": "code",
   "execution_count": null,
   "id": "d2cc6b82",
   "metadata": {},
   "outputs": [],
   "source": [
    "# Define BiLSTM + Attention Model\n",
    "inputs = Input(shape=(X_train_seq.shape[1], X_train_seq.shape[2]))\n",
    "x = Bidirectional(LSTM(64, return_sequences=True))(inputs)\n",
    "x = Bidirectional(LSTM(32, return_sequences=True))(x)\n",
    "attention = Attention()(x)  # Apply custom attention layer\n",
    "x = Dropout(0.3)(attention)\n",
    "outputs = Dense(y_train_seq_oh.shape[1], activation='softmax')(x)\n",
    "bilstm_attention_model = Model(inputs, outputs, name=\"BiLSTM_Attention\")\n",
    "\n",
    "bilstm_attention_model.compile(optimizer='adam', loss='categorical_crossentropy', metrics=['accuracy'])\n",
    "bilstm_attention_model.summary()"
   ]
  },
  {
   "cell_type": "code",
   "execution_count": null,
   "id": "ffc18f64",
   "metadata": {},
   "outputs": [],
   "source": [
    "history_bilstm_attention = bilstm_attention_model.fit(\n",
    "    X_train_seq, y_train_seq_oh,\n",
    "    epochs=10,\n",
    "    batch_size=32,\n",
    "    validation_data=(X_test_seq, y_test_seq_oh)\n",
    ")"
   ]
  }
 ],
 "metadata": {
  "kernelspec": {
   "display_name": "Python 3",
   "language": "python",
   "name": "python3"
  },
  "language_info": {
   "codemirror_mode": {
    "name": "ipython",
    "version": 3
   },
   "file_extension": ".py",
   "mimetype": "text/x-python",
   "name": "python",
   "nbconvert_exporter": "python",
   "pygments_lexer": "ipython3",
   "version": "3.9.6"
  }
 },
 "nbformat": 4,
 "nbformat_minor": 5
}
